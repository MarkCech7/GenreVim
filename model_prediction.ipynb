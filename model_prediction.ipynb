{
  "cells": [
    {
      "cell_type": "code",
      "execution_count": 2,
      "metadata": {
        "colab": {
          "base_uri": "https://localhost:8080/"
        },
        "id": "M7SWnkHh7l4v",
        "outputId": "f088188d-a6c5-487c-bdf2-754daa84cb03"
      },
      "outputs": [
        {
          "name": "stdout",
          "output_type": "stream",
          "text": [
            "Drive already mounted at /content/drive; to attempt to forcibly remount, call drive.mount(\"/content/drive\", force_remount=True).\n"
          ]
        },
        {
          "data": {
            "text/plain": [
              "[{'score': 0.7981348633766174, 'label': 'latin'},\n",
              " {'score': 0.16981445252895355, 'label': 'pop'},\n",
              " {'score': 0.00970443431288004, 'label': 'R&B, Soul'},\n",
              " {'score': 0.005520547274500132, 'label': 'country'},\n",
              " {'score': 0.0038135063368827105, 'label': 'reagge'}]"
            ]
          },
          "execution_count": 2,
          "metadata": {},
          "output_type": "execute_result"
        }
      ],
      "source": [
        "from google.colab import drive\n",
        "drive.mount('/content/drive')\n",
        "import librosa\n",
        "from transformers import pipeline\n",
        "\n",
        "path = \"path to wav file\"\n",
        "\n",
        "# resample to 16kHz\n",
        "target_sr = 16000\n",
        "data, sr = librosa.load(path)\n",
        "data = librosa.resample(data, orig_sr=sr, target_sr=target_sr)\n",
        "\n",
        "# genre prediction using transformers pipeline\n",
        "classifier = pipeline(\"audio-classification\", model=\"MarekCech/GenreVim-HuBERT-1\")\n",
        "classifier(data)"
      ]
    }
  ],
  "metadata": {
    "colab": {
      "provenance": []
    },
    "kernelspec": {
      "display_name": "Python 3",
      "name": "python3"
    },
    "language_info": {
      "name": "python"
    }
  },
  "nbformat": 4,
  "nbformat_minor": 0
}
