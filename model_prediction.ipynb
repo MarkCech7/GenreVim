{
  "nbformat": 4,
  "nbformat_minor": 0,
  "metadata": {
    "colab": {
      "provenance": []
    },
    "kernelspec": {
      "name": "python3",
      "display_name": "Python 3"
    },
    "language_info": {
      "name": "python"
    }
  },
  "cells": [
    {
      "cell_type": "code",
      "execution_count": 2,
      "metadata": {
        "colab": {
          "base_uri": "https://localhost:8080/"
        },
        "id": "M7SWnkHh7l4v",
        "outputId": "f088188d-a6c5-487c-bdf2-754daa84cb03"
      },
      "outputs": [
        {
          "output_type": "stream",
          "name": "stdout",
          "text": [
            "Drive already mounted at /content/drive; to attempt to forcibly remount, call drive.mount(\"/content/drive\", force_remount=True).\n"
          ]
        },
        {
          "output_type": "execute_result",
          "data": {
            "text/plain": [
              "[{'score': 0.7981348633766174, 'label': 'latin'},\n",
              " {'score': 0.16981445252895355, 'label': 'pop'},\n",
              " {'score': 0.00970443431288004, 'label': 'R&B, Soul'},\n",
              " {'score': 0.005520547274500132, 'label': 'country'},\n",
              " {'score': 0.0038135063368827105, 'label': 'reagge'}]"
            ]
          },
          "metadata": {},
          "execution_count": 2
        }
      ],
      "source": [
        "from google.colab import drive\n",
        "drive.mount('/content/drive')\n",
        "import librosa\n",
        "from transformers import pipeline\n",
        "import torch\n",
        "\n",
        "path = \"/content/drive/MyDrive/Eminem - Rap God (Explicit).mp3\"\n",
        "\n",
        "target_sr = 16000\n",
        "data, sr = librosa.load(path)\n",
        "data = librosa.resample(data, orig_sr=sr, target_sr=target_sr)\n",
        "\"\"\"\n",
        "from transformers import Wav2Vec2ForSequenceClassification, Wav2Vec2FeatureExtractor\n",
        "\n",
        "feature_extractor = Wav2Vec2FeatureExtractor.from_pretrained(\"MarekCech/wav2vec2-base-100k-voxpopuli-genre-3\")\n",
        "inputs = feature_extractor(data, sampling_rate=feature_extractor.sampling_rate, return_tensors=\"pt\")\n",
        "model = Wav2Vec2ForSequenceClassification.from_pretrained(\"MarekCech/wav2vec2-base-100k-voxpopuli-genre-3\")\n",
        "\n",
        "with torch.no_grad():\n",
        "    logits = model(**inputs).logits\n",
        "\n",
        "predicted_class_ids = torch.softmax(logits).item()\n",
        "predicted_label = model.config.id2label[predicted_class_ids]\n",
        "print(predicted_label)\n",
        "\n",
        "\"\"\"\n",
        "classifier = pipeline(\"audio-classification\", model=\"MarekCech/GenreVim-HuBERT-1\")\n",
        "classifier(data)"
      ]
    }
  ]
}